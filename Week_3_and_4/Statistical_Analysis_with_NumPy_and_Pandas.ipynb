{
  "cells": [
    {
      "cell_type": "markdown",
      "metadata": {},
      "source": [
        "# Statistical Analysis with NumPy and Pandas\n",
        "\n",
        "This notebook demonstrates how to perform statistical analysis using NumPy and Pandas. It covers basic statistical measures, hypothesis testing, and correlation analysis.\n",
        "\n",
        "## Table of Contents\n",
        "\n",
        "1. Descriptive Statistics\n",
        "   1. Mean\n",
        "   2. Median\n",
        "   3. Mode\n",
        "   4. Standard Deviation\n",
        "   5. Variance\n",
        "   6. Range\n",
        "   7. Quartiles\n",
        "2. Hypothesis Testing\n",
        "   1. t-Test\n",
        "   2. ANOVA\n",
        "3. Correlation Analysis\n",
        "   1. Pearson Correlation Coefficient\n",
        "   2. Spearman Correlation Coefficient\n",
        "\n",
        "Let's get started!"
      ]
    },
    {
      "cell_type": "markdown",
      "metadata": {},
      "source": [
        "## 1. Descriptive Statistics\n",
        "\n",
        "Descriptive statistics summarize and describe the main features of a dataset. NumPy and Pandas provide functions for calculating various statistical measures.\n",
        "\n",
        "### 1.1 Mean\n",
        "\n",
        "The mean represents the average value of a dataset. NumPy and Pandas offer functions to calculate the mean.\n",
        "\n",
        "Let's calculate the mean of a dataset using NumPy and Pandas."
      ]
    },
    {
      "cell_type": "code",
      "metadata": {},
      "source": [
        "import numpy as np\n",
        "import pandas as pd\n",
        "\n",
        "# Create a NumPy array\n",
        "data = np.array([1, 2, 3, 4, 5, 6, 7, 8, 9])\n",
        "\n",
        "# Calculate mean using NumPy\n",
        "mean_numpy = np.mean(data)\n",
        "print('Mean (NumPy):', mean_numpy)\n",
        "\n",
        "# Calculate mean using Pandas\n",
        "mean_pandas = pd.Series(data).mean()\n",
        "print('Mean (Pandas):', mean_pandas)"
      ]
    },
    {
      "cell_type": "markdown",
      "metadata": {},
      "source": [
        "### 1.2 Median\n",
        "\n",
        "The median represents the middle value in a sorted dataset. NumPy and Pandas provide functions to calculate the median.\n",
        "\n",
        "Let's calculate the median of a dataset using NumPy and Pandas."
      ]
    },
    {
      "cell_type": "code",
      "metadata": {},
      "source": [
        "# Calculate median using NumPy\n",
        "median_numpy = np.median(data)\n",
        "print('Median (NumPy):', median_numpy)\n",
        "\n",
        "# Calculate median using Pandas\n",
        "median_pandas = pd.Series(data).median()\n",
        "print('Median (Pandas):', median_pandas)"
      ]
    },
    {
      "cell_type": "markdown",
      "metadata": {},
      "source": [
        "### 1.3 Mode\n",
        "\n",
        "The mode represents the most frequently occurring value(s) in a dataset. NumPy and Pandas provide functions to calculate the mode.\n",
        "\n",
        "Let's calculate the mode of a dataset using NumPy and Pandas."
      ]
    },
    {
      "cell_type": "code",
      "metadata": {},
      "source": [
        "# Create a Pandas Series with multiple modes\n",
        "data_mode = pd.Series([1, 2, 2, 3, 3, 4, 5])\n",
        "\n",
        "# Calculate mode using NumPy\n",
        "mode_numpy = np.array(stats.mode(data_mode))\n",
        "print('Mode (NumPy):', mode_numpy)\n",
        "\n",
        "# Calculate mode using Pandas\n",
        "mode_pandas = pd.Series(data_mode).mode()\n",
        "print('Mode (Pandas):', mode_pandas.values)"
      ]
    },
    {
      "cell_type": "markdown",
      "metadata": {},
      "source": [
        "### 1.4 Standard Deviation\n",
        "\n",
        "The standard deviation measures the amount of variation or dispersion in a dataset. NumPy and Pandas provide functions to calculate the standard deviation.\n",
        "\n",
        "Let's calculate the standard deviation of a dataset using NumPy and Pandas."
      ]
    },
    {
      "cell_type": "code",
      "metadata": {},
      "source": [
        "# Calculate standard deviation using NumPy\n",
        "std_dev_numpy = np.std(data)\n",
        "print('Standard Deviation (NumPy):', std_dev_numpy)\n",
        "\n",
        "# Calculate standard deviation using Pandas\n",
        "std_dev_pandas = pd.Series(data).std()\n",
        "print('Standard Deviation (Pandas):', std_dev_pandas)"
      ]
    },
    {
      "cell_type": "markdown",
      "metadata": {},
      "source": [
        "### 1.5 Variance\n",
        "\n",
        "The variance measures the average squared deviations from the mean. NumPy and Pandas provide functions to calculate the variance.\n",
        "\n",
        "Let's calculate the variance of a dataset using NumPy and Pandas."
      ]
    },
    {
      "cell_type": "code",
      "metadata": {},
      "source": [
        "# Calculate variance using NumPy\n",
        "variance_numpy = np.var(data)\n",
        "print('Variance (NumPy):', variance_numpy)\n",
        "\n",
        "# Calculate variance using Pandas\n",
        "variance_pandas = pd.Series(data).var()\n",
        "print('Variance (Pandas):', variance_pandas)"
      ]
    },
    {
      "cell_type": "markdown",
      "metadata": {},
      "source": [
        "### 1.6 Range\n",
        "\n",
        "The range represents the difference between the maximum and minimum values in a dataset. NumPy provides a function to calculate the range.\n",
        "\n",
        "Let's calculate the range of a dataset using NumPy."
      ]
    },
    {
      "cell_type": "code",
      "metadata": {},
      "source": [
        "# Calculate range using NumPy\n",
        "range_numpy = np.ptp(data)\n",
        "print('Range (NumPy):', range_numpy)"
      ]
    },
    {
      "cell_type": "markdown",
      "metadata": {},
      "source": [
        "### 1.7 Quartiles\n",
        "\n",
        "Quartiles divide a dataset into four equal parts, each containing 25% of the data. NumPy and Pandas provide functions to calculate quartiles.\n",
        "\n",
        "Let's calculate the quartiles of a dataset using NumPy and Pandas."
      ]
    },
    {
      "cell_type": "code",
      "metadata": {},
      "source": [
        "# Calculate quartiles using NumPy\n",
        "quartiles_numpy = np.percentile(data, [25, 50, 75])\n",
        "print('Quartiles (NumPy):', quartiles_numpy)\n",
        "\n",
        "# Calculate quartiles using Pandas\n",
        "quartiles_pandas = pd.Series(data).quantile([0.25, 0.5, 0.75])\n",
        "print('Quartiles (Pandas):')\n",
        "print(quartiles_pandas)"
      ]
    },
    {
      "cell_type": "markdown",
      "metadata": {},
      "source": [
        "## 2. Hypothesis Testing\n",
        "\n",
        "Hypothesis testing is used to make inferences or conclusions about a population based on sample data. NumPy and Pandas provide functions for performing hypothesis tests.\n",
        "\n",
        "### 2.1 t-Test\n",
        "\n",
        "The t-test is used to compare the means of two groups and determine if they are significantly different from each other. NumPy provides a function to perform the t-test.\n",
        "\n",
        "Let's perform a t-test using NumPy."
      ]
    },
    {
      "cell_type": "code",
      "metadata": {},
      "source": [
        "from scipy import stats\n",
        "\n",
        "# Create two samples\n",
        "sample1 = np.array([1, 2, 3, 4, 5])\n",
        "sample2 = np.array([2, 4, 6, 8, 10])\n",
        "\n",
        "# Perform t-test\n",
        "t_statistic, p_value = stats.ttest_ind(sample1, sample2)\n",
        "print('t-statistic:', t_statistic)\n",
        "print('p-value:', p_value)"
      ]
    },
    {
      "cell_type": "markdown",
      "metadata": {},
      "source": [
        "### 2.2 ANOVA\n",
        "\n",
        "Analysis of Variance (ANOVA) is used to compare the means of more than two groups and determine if they are significantly different from each other. NumPy provides a function to perform ANOVA.\n",
        "\n",
        "Let's perform ANOVA using NumPy."
      ]
    },
    {
      "cell_type": "code",
      "metadata": {},
      "source": [
        "# Create three samples\n",
        "sample1 = np.array([1, 2, 3, 4, 5])\n",
        "sample2 = np.array([2, 4, 6, 8, 10])\n",
        "sample3 = np.array([3, 6, 9, 12, 15])\n",
        "\n",
        "# Perform ANOVA\n",
        "f_statistic, p_value = stats.f_oneway(sample1, sample2, sample3)\n",
        "print('F-statistic:', f_statistic)\n",
        "print('p-value:', p_value)"
      ]
    },
    {
      "cell_type": "markdown",
      "metadata": {},
      "source": [
        "## 3. Correlation Analysis\n",
        "\n",
        "Correlation analysis is used to determine the strength and direction of the linear relationship between two variables. NumPy and Pandas provide functions to calculate correlation coefficients.\n",
        "\n",
        "### 3.1 Pearson Correlation Coefficient\n",
        "\n",
        "The Pearson correlation coefficient measures the linear correlation between two variables. NumPy and Pandas provide functions to calculate the Pearson correlation coefficient.\n",
        "\n",
        "Let's calculate the Pearson correlation coefficient using NumPy and Pandas."
      ]
    },
    {
      "cell_type": "code",
      "metadata": {},
      "source": [
        "# Create two arrays\n",
        "x = np.array([1, 2, 3, 4, 5])\n",
        "y = np.array([2, 4, 6, 8, 10])\n",
        "\n",
        "# Calculate Pearson correlation coefficient using NumPy\n",
        "pearson_corr_numpy = np.corrcoef(x, y)[0, 1]\n",
        "print('Pearson Correlation Coefficient (NumPy):', pearson_corr_numpy)\n",
        "\n",
        "# Create a DataFrame\n",
        "df = pd.DataFrame({'x': x, 'y': y})\n",
        "\n",
        "# Calculate Pearson correlation coefficient using Pandas\n",
        "pearson_corr_pandas = df['x'].corr(df['y'])\n",
        "print('Pearson Correlation Coefficient (Pandas):', pearson_corr_pandas)"
      ]
    },
    {
      "cell_type": "markdown",
      "metadata": {},
      "source": [
        "### 3.2 Spearman Correlation Coefficient\n",
        "\n",
        "The Spearman correlation coefficient measures the monotonic relationship between two variables. NumPy and Pandas provide functions to calculate the Spearman correlation coefficient.\n",
        "\n",
        "Let's calculate the Spearman correlation coefficient using NumPy and Pandas."
      ]
    },
    {
      "cell_type": "code",
      "metadata": {},
      "source": [
        "# Calculate Spearman correlation coefficient using NumPy\n",
        "spearman_corr_numpy = stats.spearmanr(x, y).correlation\n",
        "print('Spearman Correlation Coefficient (NumPy):', spearman_corr_numpy)\n",
        "\n",
        "# Calculate Spearman correlation coefficient using Pandas\n",
        "spearman_corr_pandas = df['x'].corr(df['y'], method='spearman')\n",
        "print('Spearman Correlation Coefficient (Pandas):', spearman_corr_pandas)"
      ]
    }
  ],
  "metadata": {
    "kernelspec": {
      "display_name": "Python 3",
      "language": "python",
      "name": "python3"
    },
    "language_info": {
      "codemirror_mode": {
        "name": "ipython",
        "version": 3
      },
      "file_extension": ".py",
      "mimetype": "text/x-python",
      "name": "python",
      "nbconvert_exporter": "python",
      "pygments_lexer": "ipython3",
      "version": "3.7.12"
    }
  },
  "nbformat": 4,
  "nbformat_minor": 5
}
